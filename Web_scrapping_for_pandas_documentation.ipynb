{
  "nbformat": 4,
  "nbformat_minor": 0,
  "metadata": {
    "colab": {
      "provenance": []
    },
    "kernelspec": {
      "name": "python3",
      "display_name": "Python 3"
    },
    "language_info": {
      "name": "python"
    }
  },
  "cells": [
    {
      "cell_type": "code",
      "execution_count": null,
      "metadata": {
        "id": "eFOc9dwca9vw"
      },
      "outputs": [],
      "source": [
        "import pandas as pd\n",
        "from bs4 import BeautifulSoup\n",
        "import requests\n"
      ]
    },
    {
      "cell_type": "code",
      "source": [
        "import requests\n",
        "from bs4 import BeautifulSoup\n",
        "\n",
        "# List of URLs to fetch\n",
        "urls = [\n",
        "    \"https://pandas.pydata.org/docs/reference/io.html\",\n",
        "    \"https://pandas.pydata.org/docs/reference/general_functions.html\",\n",
        "    \"https://pandas.pydata.org/docs/reference/series.html\",\n",
        "    \"https://pandas.pydata.org/docs/reference/frame.html\",\n",
        "    \"https://pandas.pydata.org/docs/reference/arrays.html#\",\n",
        "    \"https://pandas.pydata.org/docs/reference/indexing.html\",\n",
        "    \"https://pandas.pydata.org/docs/reference/offset_frequency.html\",\n",
        "    \"https://pandas.pydata.org/docs/reference/window.html\",\n",
        "    \"https://pandas.pydata.org/docs/reference/groupby.html\",\n",
        "    \"https://pandas.pydata.org/docs/reference/resampling.html\",\n",
        "    \"https://pandas.pydata.org/docs/reference/style.html\",\n",
        "    \"https://pandas.pydata.org/docs/reference/plotting.html\",\n",
        "    \"https://pandas.pydata.org/docs/reference/options.html\",\n",
        "    \"https://pandas.pydata.org/docs/reference/extensions.html\",\n",
        "    \"https://pandas.pydata.org/docs/reference/testing.html\",\n",
        "    \"https://pandas.pydata.org/docs/reference/missing_value.html\"\n",
        "]\n",
        "\n",
        "with open('output.md', 'w', encoding='utf-8') as f:\n",
        "    for url in urls:\n",
        "        response = requests.get(url)\n",
        "        soup = BeautifulSoup(response.content, 'html.parser')\n",
        "        section = soup.find('section')\n",
        "        if section:\n",
        "            f.write(f\"# {url}\\n\\n\")\n",
        "            for element in section.descendants:\n",
        "                if element.name == 'h1':\n",
        "                    f.write(f\"# {element.text.strip()}\\n\\n\")\n",
        "                elif element.name == 'h2':\n",
        "                    f.write(f\"## {element.text.strip()}\\n\\n\")\n",
        "                elif element.name == 'table':\n",
        "                    table_rows = element.find_all('tr')\n",
        "                    for row in table_rows:\n",
        "                        table_data = row.find_all('td')\n",
        "                        if len(table_data) == 2:\n",
        "\n",
        "                            col1 = table_data[0].get_text(separator=\" \", strip=True)\n",
        "                            col2 = table_data[1].get_text(separator=\" \", strip=True)\n",
        "                            f.write(f\"- **{col1}** - {col2}\\n\")\n",
        "                        # elif len(table_data) == 1:\n",
        "                        #     col1 = table_data[0].get_text(separator=\" \", strip=True)\n",
        "                        #     f.write(f\"- **{col1}**\\n\")\n",
        "        # else:\n",
        "        #     f.write(f\"Section with id 'series' not found for {url}\\n\\n\")\n",
        "\n",
        "print(\"output.md created\")\n"
      ],
      "metadata": {
        "id": "UGx6wRtOg4hl",
        "outputId": "227ad655-2625-4f8a-9b97-6c04d2f900fb",
        "colab": {
          "base_uri": "https://localhost:8080/"
        }
      },
      "execution_count": 40,
      "outputs": [
        {
          "output_type": "stream",
          "name": "stdout",
          "text": [
            "output.md created\n"
          ]
        }
      ]
    },
    {
      "cell_type": "code",
      "source": [
        "!pip install weasyprint\n",
        "!apt-get install -y wkhtmltopdf"
      ],
      "metadata": {
        "colab": {
          "base_uri": "https://localhost:8080/"
        },
        "id": "QfqYfnlN0Wgz",
        "outputId": "5c958470-ce34-4fe4-f184-c5da8b7b27dc"
      },
      "execution_count": null,
      "outputs": [
        {
          "output_type": "stream",
          "name": "stdout",
          "text": [
            "Collecting weasyprint\n",
            "  Downloading weasyprint-62.3-py3-none-any.whl.metadata (3.7 kB)\n",
            "Collecting pydyf>=0.10.0 (from weasyprint)\n",
            "  Downloading pydyf-0.11.0-py3-none-any.whl.metadata (2.5 kB)\n",
            "Requirement already satisfied: cffi>=0.6 in /usr/local/lib/python3.10/dist-packages (from weasyprint) (1.17.1)\n",
            "Requirement already satisfied: html5lib>=1.1 in /usr/local/lib/python3.10/dist-packages (from weasyprint) (1.1)\n",
            "Requirement already satisfied: tinycss2>=1.3.0 in /usr/local/lib/python3.10/dist-packages (from weasyprint) (1.3.0)\n",
            "Collecting cssselect2>=0.1 (from weasyprint)\n",
            "  Downloading cssselect2-0.7.0-py3-none-any.whl.metadata (2.9 kB)\n",
            "Collecting Pyphen>=0.9.1 (from weasyprint)\n",
            "  Downloading pyphen-0.16.0-py3-none-any.whl.metadata (3.2 kB)\n",
            "Requirement already satisfied: Pillow>=9.1.0 in /usr/local/lib/python3.10/dist-packages (from weasyprint) (9.4.0)\n",
            "Requirement already satisfied: fonttools>=4.0.0 in /usr/local/lib/python3.10/dist-packages (from fonttools[woff]>=4.0.0->weasyprint) (4.53.1)\n",
            "Requirement already satisfied: pycparser in /usr/local/lib/python3.10/dist-packages (from cffi>=0.6->weasyprint) (2.22)\n",
            "Requirement already satisfied: webencodings in /usr/local/lib/python3.10/dist-packages (from cssselect2>=0.1->weasyprint) (0.5.1)\n",
            "Collecting zopfli>=0.1.4 (from fonttools[woff]>=4.0.0->weasyprint)\n",
            "  Downloading zopfli-0.2.3-cp310-cp310-manylinux_2_12_x86_64.manylinux2010_x86_64.whl.metadata (2.9 kB)\n",
            "Collecting brotli>=1.0.1 (from fonttools[woff]>=4.0.0->weasyprint)\n",
            "  Downloading Brotli-1.1.0-cp310-cp310-manylinux_2_5_x86_64.manylinux1_x86_64.manylinux_2_12_x86_64.manylinux2010_x86_64.whl.metadata (5.5 kB)\n",
            "Requirement already satisfied: six>=1.9 in /usr/local/lib/python3.10/dist-packages (from html5lib>=1.1->weasyprint) (1.16.0)\n",
            "Downloading weasyprint-62.3-py3-none-any.whl (289 kB)\n",
            "\u001b[2K   \u001b[90m━━━━━━━━━━━━━━━━━━━━━━━━━━━━━━━━━━━━━━━━\u001b[0m \u001b[32m289.3/289.3 kB\u001b[0m \u001b[31m5.3 MB/s\u001b[0m eta \u001b[36m0:00:00\u001b[0m\n",
            "\u001b[?25hDownloading cssselect2-0.7.0-py3-none-any.whl (15 kB)\n",
            "Downloading pydyf-0.11.0-py3-none-any.whl (8.1 kB)\n",
            "Downloading pyphen-0.16.0-py3-none-any.whl (2.1 MB)\n",
            "\u001b[2K   \u001b[90m━━━━━━━━━━━━━━━━━━━━━━━━━━━━━━━━━━━━━━━━\u001b[0m \u001b[32m2.1/2.1 MB\u001b[0m \u001b[31m30.0 MB/s\u001b[0m eta \u001b[36m0:00:00\u001b[0m\n",
            "\u001b[?25hDownloading Brotli-1.1.0-cp310-cp310-manylinux_2_5_x86_64.manylinux1_x86_64.manylinux_2_12_x86_64.manylinux2010_x86_64.whl (3.0 MB)\n",
            "\u001b[2K   \u001b[90m━━━━━━━━━━━━━━━━━━━━━━━━━━━━━━━━━━━━━━━━\u001b[0m \u001b[32m3.0/3.0 MB\u001b[0m \u001b[31m52.9 MB/s\u001b[0m eta \u001b[36m0:00:00\u001b[0m\n",
            "\u001b[?25hDownloading zopfli-0.2.3-cp310-cp310-manylinux_2_12_x86_64.manylinux2010_x86_64.whl (848 kB)\n",
            "\u001b[2K   \u001b[90m━━━━━━━━━━━━━━━━━━━━━━━━━━━━━━━━━━━━━━━━\u001b[0m \u001b[32m848.9/848.9 kB\u001b[0m \u001b[31m33.2 MB/s\u001b[0m eta \u001b[36m0:00:00\u001b[0m\n",
            "\u001b[?25hInstalling collected packages: brotli, zopfli, Pyphen, pydyf, cssselect2, weasyprint\n",
            "Successfully installed Pyphen-0.16.0 brotli-1.1.0 cssselect2-0.7.0 pydyf-0.11.0 weasyprint-62.3 zopfli-0.2.3\n",
            "Reading package lists... Done\n",
            "Building dependency tree... Done\n",
            "Reading state information... Done\n",
            "wkhtmltopdf is already the newest version (0.12.6-2).\n",
            "0 upgraded, 0 newly installed, 0 to remove and 48 not upgraded.\n"
          ]
        }
      ]
    },
    {
      "cell_type": "code",
      "source": [
        "import markdown2\n",
        "from weasyprint import HTML\n",
        "\n",
        "with open('output.md', 'r', encoding='utf-8') as f:\n",
        "    markdown_text = f.read()\n",
        "\n",
        "html_text = markdown2.markdown(markdown_text)\n",
        "HTML(string=html_text).write_pdf('output.pdf')\n",
        "\n",
        "print(\"pdf created\")"
      ],
      "metadata": {
        "colab": {
          "base_uri": "https://localhost:8080/"
        },
        "id": "d-9VP5bk0T0V",
        "outputId": "91fedba8-b7c6-4c62-d26f-399db08ededd"
      },
      "execution_count": 39,
      "outputs": [
        {
          "output_type": "stream",
          "name": "stdout",
          "text": [
            "pdf created\n"
          ]
        }
      ]
    }
  ]
}